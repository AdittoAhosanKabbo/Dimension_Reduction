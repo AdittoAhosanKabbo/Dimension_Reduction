{
 "cells": [
  {
   "cell_type": "markdown",
   "id": "5586fc8c-b02c-4051-839d-3be9e50e4700",
   "metadata": {},
   "source": [
    "<h1 style=\"\n",
    "    background: linear-gradient(90deg, #3498db, #9b59b6, #e74c3c);\n",
    "    background-size: 300% auto;\n",
    "    color: white;\n",
    "    padding: 15px;\n",
    "    border-radius: 8px;\n",
    "    text-align: center;\n",
    "    animation: gradient 5s ease infinite;\n",
    "\">Factor Analysis (Place Data)</h1>\n",
    "\n",
    "<script>\n",
    "document.currentScript.parentNode.innerHTML += `\n",
    "<style>\n",
    "@keyframes gradient {\n",
    "    0% {background-position: 0%}\n",
    "    50% {background-position: 100%}\n",
    "    100% {background-position: 0%}\n",
    "}\n",
    "</style>`;\n",
    "</script>"
   ]
  },
  {
   "cell_type": "markdown",
   "id": "a0351525-7b6b-4ede-b916-fe6a3eb131d9",
   "metadata": {},
   "source": [
    "<div align=\"center\">\n",
    "  <img src=\"https://raw.githubusercontent.com/AdittoAhosanKabbo/Dimension_Reduction/main/Factor%20_Analaysis/FA1/Fameme1.png\" width=\"400\">\n",
    "</div>\n"
   ]
  },
  {
   "cell_type": "markdown",
   "id": "f953f560-f6b4-4073-8def-8198a249fad3",
   "metadata": {},
   "source": [
    "<h1 style=\"\n",
    "    display: inline-block;\n",
    "    transition: transform 0.5s ease;\n",
    "    cursor: pointer;\n",
    "    padding: 15px;\n",
    "    background: linear-gradient(135deg, #9b59b6, #3498db);\n",
    "    color: white;\n",
    "    border-radius: 8px;\n",
    "\" \n",
    "onmouseover=\"this.style.transform='rotateY(20deg) rotateX(10deg)'\"\n",
    "onmouseout=\"this.style.transform='rotateY(0) rotateX(0)'\"\n",
    ">1.Data Import & Preparation</h1>\n",
    "\n",
    "<script>\n",
    "// Add perspective to parent element\n",
    "document.currentScript.parentNode.style.perspective = '1000px';\n",
    "</script>"
   ]
  },
  {
   "cell_type": "code",
   "execution_count": 1,
   "id": "8f9de4e6-f6e5-4633-9b01-ab3cfd12cf00",
   "metadata": {},
   "outputs": [],
   "source": [
    "import pandas as pd\n",
    "import numpy as np\n",
    "import matplotlib.pyplot as plt\n",
    "import seaborn as sns"
   ]
  },
  {
   "cell_type": "code",
   "execution_count": 2,
   "id": "c1c78785-cf7e-4673-9811-1b8e2c46d888",
   "metadata": {},
   "outputs": [
    {
     "data": {
      "text/html": [
       "<div>\n",
       "<style scoped>\n",
       "    .dataframe tbody tr th:only-of-type {\n",
       "        vertical-align: middle;\n",
       "    }\n",
       "\n",
       "    .dataframe tbody tr th {\n",
       "        vertical-align: top;\n",
       "    }\n",
       "\n",
       "    .dataframe thead th {\n",
       "        text-align: right;\n",
       "    }\n",
       "</style>\n",
       "<table border=\"1\" class=\"dataframe\">\n",
       "  <thead>\n",
       "    <tr style=\"text-align: right;\">\n",
       "      <th></th>\n",
       "      <th>climate</th>\n",
       "      <th>housing</th>\n",
       "      <th>health</th>\n",
       "      <th>crime</th>\n",
       "      <th>trans</th>\n",
       "      <th>educate</th>\n",
       "      <th>arts</th>\n",
       "      <th>recreate</th>\n",
       "      <th>econ</th>\n",
       "      <th>id</th>\n",
       "    </tr>\n",
       "  </thead>\n",
       "  <tbody>\n",
       "    <tr>\n",
       "      <th>0</th>\n",
       "      <td>2.716838</td>\n",
       "      <td>3.792392</td>\n",
       "      <td>2.374748</td>\n",
       "      <td>2.965202</td>\n",
       "      <td>3.605413</td>\n",
       "      <td>3.440437</td>\n",
       "      <td>2.998259</td>\n",
       "      <td>3.147676</td>\n",
       "      <td>3.882695</td>\n",
       "      <td>1</td>\n",
       "    </tr>\n",
       "    <tr>\n",
       "      <th>1</th>\n",
       "      <td>2.759668</td>\n",
       "      <td>3.910518</td>\n",
       "      <td>3.219060</td>\n",
       "      <td>2.947434</td>\n",
       "      <td>3.688687</td>\n",
       "      <td>3.387034</td>\n",
       "      <td>3.745387</td>\n",
       "      <td>3.420286</td>\n",
       "      <td>3.638489</td>\n",
       "      <td>2</td>\n",
       "    </tr>\n",
       "  </tbody>\n",
       "</table>\n",
       "</div>"
      ],
      "text/plain": [
       "    climate   housing    health     crime     trans   educate      arts  \\\n",
       "0  2.716838  3.792392  2.374748  2.965202  3.605413  3.440437  2.998259   \n",
       "1  2.759668  3.910518  3.219060  2.947434  3.688687  3.387034  3.745387   \n",
       "\n",
       "   recreate      econ  id  \n",
       "0  3.147676  3.882695   1  \n",
       "1  3.420286  3.638489   2  "
      ]
     },
     "execution_count": 2,
     "metadata": {},
     "output_type": "execute_result"
    }
   ],
   "source": [
    "df= pd.read_csv(\"places_tf.csv\")\n",
    "df.head(2)"
   ]
  },
  {
   "cell_type": "code",
   "execution_count": 3,
   "id": "086e9693-7324-4730-b238-c28f189c438c",
   "metadata": {},
   "outputs": [
    {
     "data": {
      "text/plain": [
       "(329, 10)"
      ]
     },
     "execution_count": 3,
     "metadata": {},
     "output_type": "execute_result"
    }
   ],
   "source": [
    "df.shape"
   ]
  },
  {
   "cell_type": "code",
   "execution_count": 4,
   "id": "07126968-0675-4c61-9d65-b6e970e6f0db",
   "metadata": {},
   "outputs": [
    {
     "data": {
      "text/plain": [
       "Index(['climate', 'housing', 'health', 'crime', 'trans', 'educate', 'arts',\n",
       "       'recreate', 'econ', 'id'],\n",
       "      dtype='object')"
      ]
     },
     "execution_count": 4,
     "metadata": {},
     "output_type": "execute_result"
    }
   ],
   "source": [
    "df.columns"
   ]
  },
  {
   "cell_type": "code",
   "execution_count": 5,
   "id": "2a0f3910-2cbf-481e-a0c8-e263947b6811",
   "metadata": {},
   "outputs": [
    {
     "data": {
      "text/html": [
       "<div>\n",
       "<style scoped>\n",
       "    .dataframe tbody tr th:only-of-type {\n",
       "        vertical-align: middle;\n",
       "    }\n",
       "\n",
       "    .dataframe tbody tr th {\n",
       "        vertical-align: top;\n",
       "    }\n",
       "\n",
       "    .dataframe thead th {\n",
       "        text-align: right;\n",
       "    }\n",
       "</style>\n",
       "<table border=\"1\" class=\"dataframe\">\n",
       "  <thead>\n",
       "    <tr style=\"text-align: right;\">\n",
       "      <th></th>\n",
       "      <th>climate</th>\n",
       "      <th>housing</th>\n",
       "      <th>health</th>\n",
       "      <th>crime</th>\n",
       "      <th>trans</th>\n",
       "      <th>educate</th>\n",
       "      <th>arts</th>\n",
       "      <th>recreate</th>\n",
       "      <th>econ</th>\n",
       "    </tr>\n",
       "  </thead>\n",
       "  <tbody>\n",
       "    <tr>\n",
       "      <th>0</th>\n",
       "      <td>2.716838</td>\n",
       "      <td>3.792392</td>\n",
       "      <td>2.374748</td>\n",
       "      <td>2.965202</td>\n",
       "      <td>3.605413</td>\n",
       "      <td>3.440437</td>\n",
       "      <td>2.998259</td>\n",
       "      <td>3.147676</td>\n",
       "      <td>3.882695</td>\n",
       "    </tr>\n",
       "    <tr>\n",
       "      <th>1</th>\n",
       "      <td>2.759668</td>\n",
       "      <td>3.910518</td>\n",
       "      <td>3.219060</td>\n",
       "      <td>2.947434</td>\n",
       "      <td>3.688687</td>\n",
       "      <td>3.387034</td>\n",
       "      <td>3.745387</td>\n",
       "      <td>3.420286</td>\n",
       "      <td>3.638489</td>\n",
       "    </tr>\n",
       "  </tbody>\n",
       "</table>\n",
       "</div>"
      ],
      "text/plain": [
       "    climate   housing    health     crime     trans   educate      arts  \\\n",
       "0  2.716838  3.792392  2.374748  2.965202  3.605413  3.440437  2.998259   \n",
       "1  2.759668  3.910518  3.219060  2.947434  3.688687  3.387034  3.745387   \n",
       "\n",
       "   recreate      econ  \n",
       "0  3.147676  3.882695  \n",
       "1  3.420286  3.638489  "
      ]
     },
     "execution_count": 5,
     "metadata": {},
     "output_type": "execute_result"
    }
   ],
   "source": [
    "df1 = df.drop(columns=['id'])\n",
    "df1.head(2)"
   ]
  },
  {
   "cell_type": "code",
   "execution_count": 6,
   "id": "9def5a4a-75d3-44cc-947c-24ae24d4d016",
   "metadata": {},
   "outputs": [
    {
     "data": {
      "text/plain": [
       "(329, 9)"
      ]
     },
     "execution_count": 6,
     "metadata": {},
     "output_type": "execute_result"
    }
   ],
   "source": [
    "df1.shape"
   ]
  },
  {
   "cell_type": "code",
   "execution_count": 7,
   "id": "d38baf36-0e1d-4cac-8a5a-be232d04d29c",
   "metadata": {},
   "outputs": [
    {
     "data": {
      "text/plain": [
       "Index(['climate', 'housing', 'health', 'crime', 'trans', 'educate', 'arts',\n",
       "       'recreate', 'econ'],\n",
       "      dtype='object')"
      ]
     },
     "execution_count": 7,
     "metadata": {},
     "output_type": "execute_result"
    }
   ],
   "source": [
    "df1.columns"
   ]
  },
  {
   "cell_type": "code",
   "execution_count": 8,
   "id": "72f4ced6-d095-4783-a6a7-09a39617da26",
   "metadata": {},
   "outputs": [
    {
     "data": {
      "text/plain": [
       "climate     0\n",
       "housing     0\n",
       "health      0\n",
       "crime       0\n",
       "trans       0\n",
       "educate     0\n",
       "arts        0\n",
       "recreate    0\n",
       "econ        0\n",
       "dtype: int64"
      ]
     },
     "execution_count": 8,
     "metadata": {},
     "output_type": "execute_result"
    }
   ],
   "source": [
    "df1.isnull().sum()"
   ]
  },
  {
   "cell_type": "code",
   "execution_count": 9,
   "id": "4d181855-4a75-408a-8739-fb8c90e5502e",
   "metadata": {},
   "outputs": [],
   "source": [
    "# Drop rows which contain missing values\n",
    "df1.dropna(inplace=True)                        #after that we will check again for missing values using isnull().sum()"
   ]
  },
  {
   "cell_type": "markdown",
   "id": "14097fba-24cc-462e-982a-e120e5cbe848",
   "metadata": {},
   "source": [
    "<div style=\"border: 2px solid #4CAF50; padding: 15px; border-radius: 10px; background-color: #f9fff9; font-family: Arial, sans-serif;\">\n",
    "  <h3 style=\"color: #4CAF50;\">🔍 Data Cleaning Interpretation</h3>\n",
    "  <ul>\n",
    "    <li><strong>ID Column Removed:</strong> The <code>id</code> column was dropped as it was not relevant for the analysis.</li>\n",
    "    <li><strong>Missing Values:</strong> The dataset was checked for missing or null values, but no such values were found. Hence, no imputation or removal was needed.</li>\n",
    "  </ul>\n",
    "</div>\n"
   ]
  },
  {
   "cell_type": "markdown",
   "id": "4ce7a670-7f40-4d90-b6c0-0a0c73694147",
   "metadata": {},
   "source": [
    "<h1 style=\"\n",
    "    display: inline-block;\n",
    "    transition: transform 0.5s ease;\n",
    "    cursor: pointer;\n",
    "    padding: 15px;\n",
    "    background: linear-gradient(135deg, #9b59b6, #3498db);\n",
    "    color: white;\n",
    "    border-radius: 8px;\n",
    "\" \n",
    "onmouseover=\"this.style.transform='rotateY(20deg) rotateX(10deg)'\"\n",
    "onmouseout=\"this.style.transform='rotateY(0) rotateX(0)'\"\n",
    ">2.Adequacy Test</h1>\n",
    "\n",
    "<script>\n",
    "// Add perspective to parent element\n",
    "document.currentScript.parentNode.style.perspective = '1000px';\n",
    "</script>"
   ]
  },
  {
   "cell_type": "code",
   "execution_count": 10,
   "id": "e94e7fd4-95ff-4f5c-b39b-427763ce9267",
   "metadata": {},
   "outputs": [
    {
     "name": "stdout",
     "output_type": "stream",
     "text": [
      "(839.4267918709925, 5.995552889693395e-153)\n"
     ]
    }
   ],
   "source": [
    "# Install the library if running 1st time\n",
    "#!pip install factor-analyzer\n",
    "\n",
    "from factor_analyzer.factor_analyzer import calculate_bartlett_sphericity\n",
    "print(calculate_bartlett_sphericity(df1))"
   ]
  },
  {
   "cell_type": "markdown",
   "id": "5a04fb03-512b-4f4a-8c0a-2c126d0a8239",
   "metadata": {},
   "source": [
    "<div style=\"border: 2px solid #2196F3; padding: 15px; border-radius: 10px; background-color: #f0f8ff; font-family: Arial, sans-serif;\">\n",
    "  <h3 style=\"color: #2196F3;\">🧪 Bartlett’s Test of Sphericity</h3>\n",
    "  <p>Bartlett’s test is used to determine whether there is any intercorrelation between variables by comparing the observed correlation matrix with an identity matrix.</p>\n",
    "  \n",
    "  <ul>\n",
    "    <li><strong>Null Hypothesis (H₀):</strong> The correlation matrix is an identity matrix (i.e., variables are not correlated).</li>\n",
    "    <li><strong>Alternative Hypothesis (H₁):</strong> The correlation matrix is not an identity matrix (i.e., variables are intercorrelated).</li>\n",
    "  </ul>\n",
    "  \n",
    "  <p>🧾 <strong>Test Result:</strong> The p-value from Bartlett’s test is <strong>less than 0.5</strong>, indicating that the test is statistically significant.</p>\n",
    "  <p>✅ <strong>Conclusion:</strong> We reject the null hypothesis and conclude that the observed correlation matrix is <strong>not</strong> an identity matrix. This implies that there is a significant correlation between the variables.</p>\n",
    "</div>\n"
   ]
  },
  {
   "cell_type": "code",
   "execution_count": 11,
   "id": "3f7162bd-5061-49e3-b053-6149b4f20dd2",
   "metadata": {},
   "outputs": [
    {
     "name": "stderr",
     "output_type": "stream",
     "text": [
      "D:\\5. softwares\\anaconda\\Lib\\site-packages\\factor_analyzer\\utils.py:244: UserWarning: The inverse of the variance-covariance matrix was calculated using the Moore-Penrose generalized matrix inversion, due to its determinant being at or very close to zero.\n",
      "  warnings.warn(\n"
     ]
    },
    {
     "data": {
      "text/plain": [
       "0.7029305838189955"
      ]
     },
     "execution_count": 11,
     "metadata": {},
     "output_type": "execute_result"
    }
   ],
   "source": [
    "# KMO\n",
    "from factor_analyzer.factor_analyzer import calculate_kmo\n",
    "kmo_all, kmo_model = calculate_kmo(df1)\n",
    "kmo_model"
   ]
  },
  {
   "cell_type": "markdown",
   "id": "09dc247f-a54a-40dd-8cd2-5b5390eb2ce7",
   "metadata": {},
   "source": [
    "<div style=\"border: 2px solid #2196F3; padding: 15px; border-radius: 10px; background-color: #f0f8ff; font-family: Arial, sans-serif;\">\n",
    "  <h3 style=\"color: #2196F3;\">📊 Kaiser-Meyer-Olkin (KMO) Test for Sampling Adequacy</h3>\n",
    "  <p>The KMO test helps evaluate whether the sample is suitable for factor analysis by measuring the proportion of variance among variables that might be common variance.</p>\n",
    "  \n",
    "  <ul>\n",
    "    <li><strong>Interpretation Guide:</strong>\n",
    "      <ul>\n",
    "        <li>🔹 KMO &lt; 0.5 – Sample is inadequate for factor analysis</li>\n",
    "        <li>🔹 KMO between 0.5 and 1 – Sample is adequate for factor analysis</li>\n",
    "      </ul>\n",
    "    </li>\n",
    "    <li><strong>Observed KMO Value:</strong> <strong style=\"color: #2196F3;\">0.703</strong></li>\n",
    "  </ul>\n",
    "  \n",
    "  <p>✅ <strong>Conclusion:</strong> The KMO value of <strong>0.703</strong> indicates that the sample is <strong>appropriate</strong> for factor analysis. We can confidently proceed.</p>\n",
    " <b> Both Bartlett's Test and KMO indicates that the places dataset is good to go for factor analysis.</b>\n",
    "</div>\n"
   ]
  },
  {
   "cell_type": "markdown",
   "id": "b6852a04-6679-4e2b-9c12-11b4ce6fa52a",
   "metadata": {},
   "source": [
    "<h1 style=\"\n",
    "    display: inline-block;\n",
    "    transition: transform 0.5s ease;\n",
    "    cursor: pointer;\n",
    "    padding: 15px;\n",
    "    background: linear-gradient(135deg, #9b59b6, #3498db);\n",
    "    color: white;\n",
    "    border-radius: 8px;\n",
    "\" \n",
    "onmouseover=\"this.style.transform='rotateY(20deg) rotateX(10deg)'\"\n",
    "onmouseout=\"this.style.transform='rotateY(0) rotateX(0)'\"\n",
    ">3.Tuning No of factors</h1>\n",
    "\n",
    "<script>\n",
    "// Add perspective to parent element\n",
    "document.currentScript.parentNode.style.perspective = '1000px';\n",
    "</script>"
   ]
  },
  {
   "cell_type": "code",
   "execution_count": 12,
   "id": "3e225341-4eee-471b-b461-eb74bebd3ed6",
   "metadata": {},
   "outputs": [
    {
     "name": "stdout",
     "output_type": "stream",
     "text": [
      "\n",
      "Eigenvalues:\n",
      "Factor 1: 3.298\n",
      "Factor 2: 1.214\n",
      "Factor 3: 1.106\n",
      "Factor 4: 0.907\n",
      "Factor 5: 0.861\n",
      "Factor 6: 0.562\n",
      "Factor 7: 0.484\n",
      "Factor 8: 0.318\n",
      "Factor 9: 0.251\n"
     ]
    }
   ],
   "source": [
    "from factor_analyzer import FactorAnalyzer   # instantiate the Factor Analyzer\n",
    "\n",
    "fa = FactorAnalyzer() \n",
    "fa.fit(df1)                                  # Fit the dataframe using Factor Analyzer\n",
    "ev, v = fa.get_eigenvalues()                 # Identify the eigenvalues\n",
    "ev                                           # display the eigenvalues\n",
    "# Print eigenvalues\n",
    "print(\"\\nEigenvalues:\")\n",
    "for i, val in enumerate(ev):\n",
    "    print(f\"Factor {i+1}: {val:.3f}\")"
   ]
  },
  {
   "cell_type": "code",
   "execution_count": 13,
   "id": "309408be-4869-45fa-b967-99467329dd2e",
   "metadata": {},
   "outputs": [
    {
     "name": "stdout",
     "output_type": "stream",
     "text": [
      "\n",
      "Number of factors to use (eigenvalue > 1): 3\n"
     ]
    }
   ],
   "source": [
    "# Using number of factors with eigenvalue > 1\n",
    "n_factors = sum(ev > 1)\n",
    "print(f\"\\nNumber of factors to use (eigenvalue > 1): {n_factors}\")"
   ]
  },
  {
   "cell_type": "code",
   "execution_count": 14,
   "id": "3706d146-a5a9-4eb8-a536-a71ff26152bc",
   "metadata": {},
   "outputs": [
    {
     "data": {
      "image/png": "[encoded data removed]",
      "text/plain": [
       "<Figure size 640x480 with 1 Axes>"
      ]
     },
     "metadata": {},
     "output_type": "display_data"
    }
   ],
   "source": [
    "plt.scatter(range(1,10),ev)\n",
    "plt.plot(range(1,10),ev)                                   ##get value length of col+1\n",
    "plt.axhline(y=1,color='red', linestyle='--')\n",
    "plt.title('Scree Plot')\n",
    "plt.xlabel('Factors')\n",
    "plt.ylabel('Eigenvalue')\n",
    "plt.grid()\n",
    "plt.show()"
   ]
  },
  {
   "cell_type": "markdown",
   "id": "1779f30a-e2c3-455e-a31a-f88197692dfc",
   "metadata": {},
   "source": [
    "<div style=\"border: 2px solid #2196F3; padding: 15px; border-radius: 10px; background-color: #f0f8ff; font-family: Arial, sans-serif;\">\n",
    "  <h3 style=\"color: #2196F3;\">📉 Eigenvalues & Scree Plot Interpretation</h3>\n",
    "  <p>Based on the array of eigenvalues and the scree plot, we apply the Kaiser criterion (eigenvalues greater than 1) and visual elbow detection to determine the number of factors to retain.</p>\n",
    "\n",
    "  <ul>\n",
    "    <li>🔍 <strong>Observation:</strong> The scree plot shows a noticeable “elbow” after the third component.</li>\n",
    "    <li>📊 <strong>Eigenvalue Rule:</strong> Only the first three components have eigenvalues &gt; 1.</li>\n",
    "  </ul>\n",
    "\n",
    "  <p>✅ <strong>Conclusion:</strong> Based on both the eigenvalues and the scree plot, <strong>three factors</strong> should be retained for the factor analysis.</p>\n",
    "</div>\n"
   ]
  },
  {
   "cell_type": "markdown",
   "id": "4860f961-4b08-4235-9616-d9356fe1e7c4",
   "metadata": {},
   "source": [
    "<h1 style=\"\n",
    "    display: inline-block;\n",
    "    transition: transform 0.5s ease;\n",
    "    cursor: pointer;\n",
    "    padding: 15px;\n",
    "    background: linear-gradient(135deg, #9b59b6, #3498db);\n",
    "    color: white;\n",
    "    border-radius: 8px;\n",
    "\" \n",
    "onmouseover=\"this.style.transform='rotateY(20deg) rotateX(10deg)'\"\n",
    "onmouseout=\"this.style.transform='rotateY(0) rotateX(0)'\"\n",
    ">4.Getting Factor Loadings</h1>\n",
    "\n",
    "<script>\n",
    "// Add perspective to parent element\n",
    "document.currentScript.parentNode.style.perspective = '1000px';\n",
    "</script>"
   ]
  },
  {
   "cell_type": "code",
   "execution_count": 15,
   "id": "112e5ff7-70fd-4bef-9c0f-5e16bee9f0ea",
   "metadata": {},
   "outputs": [
    {
     "data": {
      "text/plain": [
       "array([[ 0.28681879,  0.07560335,  0.84084849],\n",
       "       [ 0.69807335,  0.15335494,  0.08371209],\n",
       "       [ 0.74438876, -0.40959477, -0.02047721],\n",
       "       [ 0.47052419,  0.52231278,  0.13507581],\n",
       "       [ 0.68079195, -0.15586396, -0.14832509],\n",
       "       [ 0.49817012, -0.49832262, -0.25345619],\n",
       "       [ 0.86049803, -0.11502014,  0.0115935 ],\n",
       "       [ 0.64178963,  0.32160899,  0.0439675 ],\n",
       "       [ 0.29784558,  0.5953728 , -0.53340722]])"
      ]
     },
     "execution_count": 15,
     "metadata": {},
     "output_type": "execute_result"
    }
   ],
   "source": [
    "fa = FactorAnalyzer(3,rotation=None,method='principal')              ## VVI\n",
    "fa.fit(df1)                                                          ## here we use principal method,no rotation\n",
    "fa.loadings_"
   ]
  },
  {
   "cell_type": "code",
   "execution_count": 16,
   "id": "d1ecee18-5aec-4565-b154-7d9832935a4f",
   "metadata": {},
   "outputs": [
    {
     "data": {
      "text/html": [
       "<div>\n",
       "<style scoped>\n",
       "    .dataframe tbody tr th:only-of-type {\n",
       "        vertical-align: middle;\n",
       "    }\n",
       "\n",
       "    .dataframe tbody tr th {\n",
       "        vertical-align: top;\n",
       "    }\n",
       "\n",
       "    .dataframe thead th {\n",
       "        text-align: right;\n",
       "    }\n",
       "</style>\n",
       "<table border=\"1\" class=\"dataframe\">\n",
       "  <thead>\n",
       "    <tr style=\"text-align: right;\">\n",
       "      <th></th>\n",
       "      <th>Factor 1</th>\n",
       "      <th>Factor 2</th>\n",
       "      <th>Factor 3</th>\n",
       "    </tr>\n",
       "  </thead>\n",
       "  <tbody>\n",
       "    <tr>\n",
       "      <th>climate</th>\n",
       "      <td>0.286819</td>\n",
       "      <td>0.075603</td>\n",
       "      <td>0.840848</td>\n",
       "    </tr>\n",
       "    <tr>\n",
       "      <th>housing</th>\n",
       "      <td>0.698073</td>\n",
       "      <td>0.153355</td>\n",
       "      <td>0.083712</td>\n",
       "    </tr>\n",
       "    <tr>\n",
       "      <th>health</th>\n",
       "      <td>0.744389</td>\n",
       "      <td>-0.409595</td>\n",
       "      <td>-0.020477</td>\n",
       "    </tr>\n",
       "    <tr>\n",
       "      <th>crime</th>\n",
       "      <td>0.470524</td>\n",
       "      <td>0.522313</td>\n",
       "      <td>0.135076</td>\n",
       "    </tr>\n",
       "    <tr>\n",
       "      <th>trans</th>\n",
       "      <td>0.680792</td>\n",
       "      <td>-0.155864</td>\n",
       "      <td>-0.148325</td>\n",
       "    </tr>\n",
       "    <tr>\n",
       "      <th>educate</th>\n",
       "      <td>0.498170</td>\n",
       "      <td>-0.498323</td>\n",
       "      <td>-0.253456</td>\n",
       "    </tr>\n",
       "    <tr>\n",
       "      <th>arts</th>\n",
       "      <td>0.860498</td>\n",
       "      <td>-0.115020</td>\n",
       "      <td>0.011593</td>\n",
       "    </tr>\n",
       "    <tr>\n",
       "      <th>recreate</th>\n",
       "      <td>0.641790</td>\n",
       "      <td>0.321609</td>\n",
       "      <td>0.043967</td>\n",
       "    </tr>\n",
       "    <tr>\n",
       "      <th>econ</th>\n",
       "      <td>0.297846</td>\n",
       "      <td>0.595373</td>\n",
       "      <td>-0.533407</td>\n",
       "    </tr>\n",
       "  </tbody>\n",
       "</table>\n",
       "</div>"
      ],
      "text/plain": [
       "          Factor 1  Factor 2  Factor 3\n",
       "climate   0.286819  0.075603  0.840848\n",
       "housing   0.698073  0.153355  0.083712\n",
       "health    0.744389 -0.409595 -0.020477\n",
       "crime     0.470524  0.522313  0.135076\n",
       "trans     0.680792 -0.155864 -0.148325\n",
       "educate   0.498170 -0.498323 -0.253456\n",
       "arts      0.860498 -0.115020  0.011593\n",
       "recreate  0.641790  0.321609  0.043967\n",
       "econ      0.297846  0.595373 -0.533407"
      ]
     },
     "execution_count": 16,
     "metadata": {},
     "output_type": "execute_result"
    }
   ],
   "source": [
    "lmatrix = pd.DataFrame(fa.loadings_, \n",
    "                       index = list(df1.columns), \n",
    "                       columns = ['Factor 1', 'Factor 2', 'Factor 3'])\n",
    "lmatrix #loading matrix    \n",
    "\n",
    "#lmatrix.style.background_gradient(\"Blues\")"
   ]
  },
  {
   "cell_type": "code",
   "execution_count": 17,
   "id": "727dd88f-a4ec-4b73-91e8-e3042e5d3d2f",
   "metadata": {},
   "outputs": [
    {
     "data": {
      "image/png": "[encoded data removed]",
      "text/plain": [
       "<Figure size 1200x600 with 2 Axes>"
      ]
     },
     "metadata": {},
     "output_type": "display_data"
    }
   ],
   "source": [
    "plt.figure(figsize=(12, 6))\n",
    "heatmap = sns.heatmap(\n",
    "    lmatrix,\n",
    "    cmap='Oranges',  # Similar color scheme\n",
    "    annot=True,       # Show values in cells\n",
    "    fmt=\".3f\",        # Format to 3 decimal places\n",
    "    linewidths=.5,    # Add grid lines\n",
    "    cbar_kws={'label': 'Loading'}  # Colorbar label\n",
    ")\n",
    "\n",
    "plt.title(\"Factor Loading Matrix\", fontsize=16, pad=20)\n",
    "plt.xlabel(\"Factors\", fontsize=14)\n",
    "plt.ylabel(\"Variables\", fontsize=14)\n",
    "plt.show()"
   ]
  },
  {
   "cell_type": "markdown",
   "id": "f5ac7ac3-3036-4cf4-8bf6-0e11110b2b3a",
   "metadata": {},
   "source": [
    "<div style=\"border: 2px solid #2196F3; padding: 15px; border-radius: 10px; background-color: #f0f8ff; font-family: Arial, sans-serif;\">\n",
    "  <h3 style=\"color: #2196F3;\">🧾 Factor Naming Based on Loading Matrix / Heatmap</h3>\n",
    "  <p>After analyzing the factor loading matrix (or its heatmap), we interpret the underlying dimensions by grouping variables that load strongly onto the same factor.</p>\n",
    "  \n",
    "  <ul>\n",
    "    <li><strong>🟦 Factor 1 – Quality of Life:</strong> Includes variables such as <code>housing</code>, <code>health</code>, <code>trans</code>, <code>arts</code>, and <code>recreate</code>.</li>\n",
    "    <li><strong>🟦 Factor 2 – Socioeconomic:</strong> Defined by variables like <code>crime</code>, <code>educate</code>, and <code>econ</code>.</li>\n",
    "    <li><strong>🟦 Factor 3 – Climate:</strong> Dominated by the variable <code>climate</code>.</li>\n",
    "  </ul>\n",
    "\n",
    "  <p>✅ <strong>Conclusion:</strong> The three extracted factors are clearly interpretable and meaningfully represent distinct dimensions of the dataset.</p>\n",
    "</div>\n"
   ]
  },
  {
   "cell_type": "markdown",
   "id": "f2b0fc73-c0d3-414a-b65f-37cd6eb51b2f",
   "metadata": {},
   "source": [
    "<h1 style=\"\n",
    "    display: inline-block;\n",
    "    transition: transform 0.5s ease;\n",
    "    cursor: pointer;\n",
    "    padding: 15px;\n",
    "    background: linear-gradient(135deg, #9b59b6, #3498db);\n",
    "    color: white;\n",
    "    border-radius: 8px;\n",
    "\" \n",
    "onmouseover=\"this.style.transform='rotateY(20deg) rotateX(10deg)'\"\n",
    "onmouseout=\"this.style.transform='rotateY(0) rotateX(0)'\"\n",
    ">5.Get Communality and Variance of factors</h1>\n",
    "\n",
    "<script>\n",
    "// Add perspective to parent element\n",
    "document.currentScript.parentNode.style.perspective = '1000px';\n",
    "</script>"
   ]
  },
  {
   "cell_type": "code",
   "execution_count": 18,
   "id": "26d0b4f1-5094-49ef-a351-2a00810a583e",
   "metadata": {},
   "outputs": [
    {
     "name": "stdout",
     "output_type": "stream",
     "text": [
      "\n",
      "COMMUNALITIES:\n",
      "          Communality\n",
      "climate         0.795\n",
      "housing         0.518\n",
      "health          0.722\n",
      "crime           0.512\n",
      "trans           0.510\n",
      "educate         0.561\n",
      "arts            0.754\n",
      "recreate        0.517\n",
      "econ            0.728\n"
     ]
    }
   ],
   "source": [
    "print(\"\\nCOMMUNALITIES:\")\n",
    "print(pd.DataFrame(fa.get_communalities(), \n",
    "                   index=df1.columns, \n",
    "                   columns=['Communality']).round(3))"
   ]
  },
  {
   "cell_type": "code",
   "execution_count": 19,
   "id": "33134bce-3ac9-4edd-a159-528466d8fc29",
   "metadata": {},
   "outputs": [
    {
     "name": "stdout",
     "output_type": "stream",
     "text": [
      "\n",
      "VARIANCE EXPLAINED BY EACH FACTOR:\n",
      "                  Factor 1  Factor 2  Factor 3\n",
      "Variance            3.2978    1.2136    1.1055\n",
      "Proportional Var    0.3664    0.1348    0.1228\n",
      "Cumulative Var      0.3664    0.5013    0.6241\n"
     ]
    }
   ],
   "source": [
    "print(\"\\nVARIANCE EXPLAINED BY EACH FACTOR:\")\n",
    "print(pd.DataFrame(fa.get_factor_variance(), \n",
    "                  index=['Variance', 'Proportional Var', 'Cumulative Var'],          ## ev=var\n",
    "                  columns=[f'Factor {i+1}' for i in range(3)]).round(4))"
   ]
  },
  {
   "cell_type": "markdown",
   "id": "72f17abd-4a94-4054-af68-dcb2b10ceb4f",
   "metadata": {},
   "source": [
    "<div style=\"border: 2px solid #2196F3; padding: 15px; border-radius: 10px; background-color: #f0f8ff; font-family: Arial, sans-serif;\">\n",
    "  <h3 style=\"color: #2196F3;\">📈 Communalities & Total Variance Explained</h3>\n",
    "  <ul>\n",
    "    <li>🔍 <strong>Communalities:</strong> Most of the variables have communalities <strong>&gt; 0.5</strong>, which suggests that the extracted factors explain a substantial amount of each variable’s variance. This indicates a good fit for factor analysis.</li>\n",
    "    <li>📊 <strong>Total Variance Explained:</strong> The three retained factors together explain <strong>62.4%</strong> of the total variance in the dataset.</li>\n",
    "  </ul>\n",
    "  \n",
    "  <p>✅ <strong>Conclusion:</strong> The factor model is effective, as it captures a significant portion of the data’s variance and the variables are well represented by the factors.</p>\n",
    "</div>\n"
   ]
  },
  {
   "cell_type": "code",
   "execution_count": 20,
   "id": "1417a51d-8e00-4ed4-8fdc-32abf196f362",
   "metadata": {},
   "outputs": [
    {
     "name": "stdout",
     "output_type": "stream",
     "text": [
      "     Factor 1  Factor 2  Factor 3\n",
      "0   -0.661175  1.340406 -0.899494\n",
      "1    0.517484 -0.225875  1.053410\n",
      "2   -1.294654  0.308861  0.024176\n",
      "3    0.760670 -1.467113 -1.195189\n",
      "4    1.344219  0.174185  0.395227\n",
      "..        ...       ...       ...\n",
      "324  0.081125 -1.693754 -0.042462\n",
      "325 -0.649067  1.004346  0.565966\n",
      "326 -1.008990 -1.210565  0.179839\n",
      "327 -0.197286 -1.211804  0.994951\n",
      "328 -1.603003  1.139483  1.281390\n",
      "\n",
      "[329 rows x 3 columns]\n"
     ]
    }
   ],
   "source": [
    "# Get final Factorscores (Latent variables extracted from observed variables)\n",
    "df2=pd.DataFrame(fa.transform(df1), columns=[\"Factor 1\", \"Factor 2\", \"Factor 3\"])     ## VVI (will not work if i dont put df1 in bracket)\n",
    "print(df2)"
   ]
  },
  {
   "cell_type": "markdown",
   "id": "4c7e6a73-f9da-40c2-adcf-e4046ccb3f07",
   "metadata": {},
   "source": [
    "<div align=\"center\">\n",
    "  <img src=\"https://raw.githubusercontent.com/AdittoAhosanKabbo/Dimension_Reduction/main/Factor%20_Analaysis/FA1/fameme2.png\" width=\"400\">\n",
    "</div>"
   ]
  },
  {
   "cell_type": "markdown",
   "id": "0583dfeb-c88a-47bb-bd0a-c53ddee31560",
   "metadata": {},
   "source": [
    "<div style=\"text-align: center; margin: 5px; perspective: 700px;\">\n",
    "    <h1 id=\"factorHeadline\" \n",
    "        style=\"font-family: 'Montserrat', sans-serif; \n",
    "               font-size: 3em; \n",
    "               color: #ecf0f1; \n",
    "               background: linear-gradient(135deg, #1abc9c, #9b59b6); \n",
    "               padding: 25px 40px; \n",
    "               border-radius: 15px; \n",
    "               box-shadow: 0 10px 20px rgba(0,0,0,0.4); \n",
    "               text-shadow: 3px 3px 5px rgba(0,0,0,0.5); \n",
    "               transform: rotateX(10deg); \n",
    "               transition: transform 0.4s ease, background 0.4s ease, color 0.4s ease; \n",
    "               animation: pulseGlow 2s infinite ease-in-out; \n",
    "               display: inline-block; \n",
    "               cursor: pointer; \n",
    "               position: relative; \n",
    "               overflow: hidden;\"\n",
    "        onclick=\"this.style.background = this.style.background === 'linear-gradient(135deg, rgb(231, 76, 60), rgb(241, 196, 15))' ? \n",
    "                 'linear-gradient(135deg, #1abc9c, #9b59b6)' : \n",
    "                 'linear-gradient(135deg, #e74c3c, #f1c40f)';\n",
    "                 this.style.color = this.style.color === 'rgb(52, 73, 94)' ? '#ecf0f1' : '#34495e';\n",
    "                 this.style.transform = this.style.transform === 'rotateX(10deg) rotateY(10deg)' ? \n",
    "                 'rotateX(10deg)' : 'rotateX(10deg) rotateY(10deg)';\">\n",
    "        THE END\n",
    "    </h1>\n",
    "</div>\n",
    "\n"
   ]
  },
  {
   "cell_type": "markdown",
   "id": "81c5975b-1760-4c96-b8f4-2a13c8fc6af3",
   "metadata": {},
   "source": [
    "<div style=\"text-align: center; font-family: Arial; color: #666; border-top: 1px solid #ddd; padding-top: 10px;\">\n",
    "<b>Aditto ahosan Kabbo</b><br>\n",
    "<a href=\"mailto:aditahosankabbo@gmail.com\" style=\"color: #0066cc; text-decoration: none;\">📧 aditahosankabbo@gmail.com</a> | \n",
    "<a href=\"https://www.linkedin.com/in/adittoahosankabbo/\" style=\"color: #0066cc; text-decoration: none;\">🔗 LinkedIn</a> | \n",
    "<a href=\"https://github.com/AdittoAhosanKabbo\" style=\"color: #0066cc; text-decoration: none;\">🐱 GitHub</a><br>\n",
    "<small>Notebook • Last Updated: 2025-05-18 • © 2025</small>\n",
    "</div>"
   ]
  }
 ],
 "metadata": {
  "kernelspec": {
   "display_name": "Python [conda env:base] *",
   "language": "python",
   "name": "conda-base-py"
  },
  "language_info": {
   "codemirror_mode": {
    "name": "ipython",
    "version": 3
   },
   "file_extension": ".py",
   "mimetype": "text/x-python",
   "name": "python",
   "nbconvert_exporter": "python",
   "pygments_lexer": "ipython3",
   "version": "3.12.7"
  }
 },
 "nbformat": 4,
 "nbformat_minor": 5
}

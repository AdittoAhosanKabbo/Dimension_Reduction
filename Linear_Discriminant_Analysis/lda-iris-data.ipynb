{
 "cells": [
  {
   "cell_type": "markdown",
   "id": "1a2be51f",
   "metadata": {
    "papermill": {
     "duration": 0.006675,
     "end_time": "2025-07-17T17:34:56.057468",
     "exception": false,
     "start_time": "2025-07-17T17:34:56.050793",
     "status": "completed"
    },
    "tags": []
   },
   "source": [
    "<div style=\"text-align: center; margin: 25px 0;\">\n",
    "  <div style=\"\n",
    "       display: inline-block;\n",
    "       background: linear-gradient(to right, rgba(22, 160, 133, 0.1), rgba(22, 160, 133, 0.05), transparent);\n",
    "       padding: 18px 35px;\n",
    "       border-radius: 10px;\n",
    "       box-shadow: 0 4px 6px rgba(0, 0, 0, 0.1), \n",
    "                   0 1px 3px rgba(0, 0, 0, 0.08);\n",
    "       border-left: 5px solid #4285F4;\n",
    "       transition: all 0.3s cubic-bezier(0.25, 0.8, 0.25, 1);\n",
    "       max-width: 90%;\n",
    "       margin: 0 auto;\">\n",
    "    <h1 style=\"\n",
    "         margin: 0 0 8px 0;\n",
    "         color: #2c3e50;\n",
    "         font-family: 'Segoe UI', Tahoma, Geneva, Verdana, sans-serif;\n",
    "         font-weight: 600;\n",
    "         letter-spacing: 0.5px;\n",
    "         font-size: 2.2em;\n",
    "         line-height: 1.3;\">\n",
    "      <span style=\"color: darkblue;\">Linear Discriminant Analysis</span><br>\n",
    "      <span style=\"font-size: 0.8em; color: #16a085; font-weight: 700;\">\n",
    "        Iris Dataset Classification\n",
    "      </span>\n",
    "    </h1>\n",
    "\n",
    "  </div>\n",
    "</div>"
   ]
  },
  {
   "cell_type": "markdown",
   "id": "7f86b0f0",
   "metadata": {
    "papermill": {
     "duration": 0.004609,
     "end_time": "2025-07-17T17:34:56.067458",
     "exception": false,
     "start_time": "2025-07-17T17:34:56.062849",
     "status": "completed"
    },
    "tags": []
   },
   "source": [
    "<div style=\"\n",
    "    display: flex;\n",
    "    align-items: center;\n",
    "    background: #f0fdf4;\n",
    "    border-left: 4px solid #3b82f6;\n",
    "    padding: 10px 16px;\n",
    "    margin: 20px 0;\n",
    "    border-radius: 6px;\n",
    "    font-family: -apple-system, BlinkMacSystemFont, sans-serif;\">\n",
    "  \n",
    "  <!-- Step Label -->\n",
    "  <div style=\"\n",
    "      background-color: lightgreen;\n",
    "      color: black;\n",
    "      padding: 4px 10px;\n",
    "      border-radius: 4px;\n",
    "      font-weight: 600;\n",
    "      font-size: 18px;\n",
    "      margin-right: 12px;\n",
    "      white-space: nowrap;\">\n",
    "    Step 1\n",
    "  </div>\n",
    "  \n",
    "  <!-- Title -->\n",
    "  <div style=\"\n",
    "      color: #1e293b;\n",
    "      font-weight: 700;\n",
    "      font-size: 20px;\">\n",
    "    Import necessary libraries\n",
    "  </div>\n",
    "</div>"
   ]
  },
  {
   "cell_type": "code",
   "execution_count": 1,
   "id": "94db5b07",
   "metadata": {
    "execution": {
     "iopub.execute_input": "2025-07-17T17:34:56.078964Z",
     "iopub.status.busy": "2025-07-17T17:34:56.078492Z",
     "iopub.status.idle": "2025-07-17T17:35:00.899716Z",
     "shell.execute_reply": "2025-07-17T17:35:00.898871Z"
    },
    "papermill": {
     "duration": 4.82928,
     "end_time": "2025-07-17T17:35:00.901642",
     "exception": false,
     "start_time": "2025-07-17T17:34:56.072362",
     "status": "completed"
    },
    "tags": []
   },
   "outputs": [],
   "source": [
    "import numpy as np\n",
    "import pandas as pd\n",
    "import matplotlib.pyplot as plt\n",
    "import seaborn as sns"
   ]
  },
  {
   "cell_type": "markdown",
   "id": "90f25720",
   "metadata": {
    "papermill": {
     "duration": 0.004289,
     "end_time": "2025-07-17T17:35:00.911063",
     "exception": false,
     "start_time": "2025-07-17T17:35:00.906774",
     "status": "completed"
    },
    "tags": []
   },
   "source": [
    "<div style=\"\n",
    "    display: flex;\n",
    "    align-items: center;\n",
    "    background: #f0fdf4;\n",
    "    border-left: 4px solid #3b82f6;\n",
    "    padding: 10px 16px;\n",
    "    margin: 20px 0;\n",
    "    border-radius: 6px;\n",
    "    font-family: -apple-system, BlinkMacSystemFont, sans-serif;\">\n",
    "  \n",
    "  <!-- Step Label -->\n",
    "  <div style=\"\n",
    "      background-color: lightgreen;\n",
    "      color: black;\n",
    "      padding: 4px 10px;\n",
    "      border-radius: 4px;\n",
    "      font-weight: 600;\n",
    "      font-size: 18px;\n",
    "      margin-right: 12px;\n",
    "      white-space: nowrap;\">\n",
    "    Step 2\n",
    "  </div>\n",
    "  \n",
    "  <!-- Title -->\n",
    "  <div style=\"\n",
    "      color: #1e293b;\n",
    "      font-weight: 700;\n",
    "      font-size: 20px;\">\n",
    "    Load the dataset\n",
    "  </div>\n",
    "</div>"
   ]
  },
  {
   "cell_type": "markdown",
   "id": "4942bd04",
   "metadata": {
    "papermill": {
     "duration": 0.004338,
     "end_time": "2025-07-17T17:35:00.920205",
     "exception": false,
     "start_time": "2025-07-17T17:35:00.915867",
     "status": "completed"
    },
    "tags": []
   },
   "source": [
    "<div style=\"text-align: center;\">\n",
    "  <h2>Iris Image 1</h2>\n",
    "  <img src=\"https://github.com/AdittoAhosanKabbo/Dimension_Reduction/blob/main/Linear_Discriminant_Analysis/assets/iris1.png?raw=true\" alt=\"Iris Image 1\"/>\n",
    "</div>\n"
   ]
  },
  {
   "cell_type": "markdown",
   "id": "7e437d73",
   "metadata": {
    "papermill": {
     "duration": 0.004617,
     "end_time": "2025-07-17T17:35:00.929241",
     "exception": false,
     "start_time": "2025-07-17T17:35:00.924624",
     "status": "completed"
    },
    "tags": []
   },
   "source": [
    "| Iris Image 2 | Iris Image 3 |\n",
    "|--------------|--------------|\n",
    "| <img src=\"https://github.com/AdittoAhosanKabbo/Dimension_Reduction/blob/main/Linear_Discriminant_Analysis/assets/iris2.jpg?raw=true\" alt=\"Iris Image 2\" width=\"500\"/> | <img src=\"https://github.com/AdittoAhosanKabbo/Dimension_Reduction/blob/main/Linear_Discriminant_Analysis/assets/iris3.png?raw=true\" alt=\"Iris Image 3\" width=\"500\"/> |"
   ]
  },
  {
   "cell_type": "code",
   "execution_count": 2,
   "id": "dd656632",
   "metadata": {
    "execution": {
     "iopub.execute_input": "2025-07-17T17:35:00.940301Z",
     "iopub.status.busy": "2025-07-17T17:35:00.939497Z",
     "iopub.status.idle": "2025-07-17T17:35:01.475942Z",
     "shell.execute_reply": "2025-07-17T17:35:01.475018Z"
    },
    "papermill": {
     "duration": 0.543816,
     "end_time": "2025-07-17T17:35:01.477734",
     "exception": false,
     "start_time": "2025-07-17T17:35:00.933918",
     "status": "completed"
    },
    "tags": []
   },
   "outputs": [],
   "source": [
    "# The Iris dataset is a classic dataset in machine learning and statistics.\n",
    "# It contains 3 classes of 50 instances each, where each class refers to a type of iris plant.\n",
    "from sklearn.datasets import load_iris\n",
    "iris = load_iris()\n",
    "X = iris.data                                     # Features (sepal length, sepal width, petal length, petal width)\n",
    "Y = iris.target                                   # Target (the species of iris)"
   ]
  },
  {
   "cell_type": "code",
   "execution_count": 3,
   "id": "e49f810a",
   "metadata": {
    "execution": {
     "iopub.execute_input": "2025-07-17T17:35:01.489983Z",
     "iopub.status.busy": "2025-07-17T17:35:01.489555Z",
     "iopub.status.idle": "2025-07-17T17:35:01.533449Z",
     "shell.execute_reply": "2025-07-17T17:35:01.532286Z"
    },
    "papermill": {
     "duration": 0.052468,
     "end_time": "2025-07-17T17:35:01.535065",
     "exception": false,
     "start_time": "2025-07-17T17:35:01.482597",
     "status": "completed"
    },
    "tags": []
   },
   "outputs": [
    {
     "data": {
      "text/html": [
       "<div>\n",
       "<style scoped>\n",
       "    .dataframe tbody tr th:only-of-type {\n",
       "        vertical-align: middle;\n",
       "    }\n",
       "\n",
       "    .dataframe tbody tr th {\n",
       "        vertical-align: top;\n",
       "    }\n",
       "\n",
       "    .dataframe thead th {\n",
       "        text-align: right;\n",
       "    }\n",
       "</style>\n",
       "<table border=\"1\" class=\"dataframe\">\n",
       "  <thead>\n",
       "    <tr style=\"text-align: right;\">\n",
       "      <th></th>\n",
       "      <th>sepal length (cm)</th>\n",
       "      <th>sepal width (cm)</th>\n",
       "      <th>petal length (cm)</th>\n",
       "      <th>petal width (cm)</th>\n",
       "      <th>species</th>\n",
       "    </tr>\n",
       "  </thead>\n",
       "  <tbody>\n",
       "    <tr>\n",
       "      <th>0</th>\n",
       "      <td>5.1</td>\n",
       "      <td>3.5</td>\n",
       "      <td>1.4</td>\n",
       "      <td>0.2</td>\n",
       "      <td>setosa</td>\n",
       "    </tr>\n",
       "    <tr>\n",
       "      <th>1</th>\n",
       "      <td>4.9</td>\n",
       "      <td>3.0</td>\n",
       "      <td>1.4</td>\n",
       "      <td>0.2</td>\n",
       "      <td>setosa</td>\n",
       "    </tr>\n",
       "    <tr>\n",
       "      <th>2</th>\n",
       "      <td>4.7</td>\n",
       "      <td>3.2</td>\n",
       "      <td>1.3</td>\n",
       "      <td>0.2</td>\n",
       "      <td>setosa</td>\n",
       "    </tr>\n",
       "    <tr>\n",
       "      <th>3</th>\n",
       "      <td>4.6</td>\n",
       "      <td>3.1</td>\n",
       "      <td>1.5</td>\n",
       "      <td>0.2</td>\n",
       "      <td>setosa</td>\n",
       "    </tr>\n",
       "    <tr>\n",
       "      <th>4</th>\n",
       "      <td>5.0</td>\n",
       "      <td>3.6</td>\n",
       "      <td>1.4</td>\n",
       "      <td>0.2</td>\n",
       "      <td>setosa</td>\n",
       "    </tr>\n",
       "    <tr>\n",
       "      <th>...</th>\n",
       "      <td>...</td>\n",
       "      <td>...</td>\n",
       "      <td>...</td>\n",
       "      <td>...</td>\n",
       "      <td>...</td>\n",
       "    </tr>\n",
       "    <tr>\n",
       "      <th>145</th>\n",
       "      <td>6.7</td>\n",
       "      <td>3.0</td>\n",
       "      <td>5.2</td>\n",
       "      <td>2.3</td>\n",
       "      <td>virginica</td>\n",
       "    </tr>\n",
       "    <tr>\n",
       "      <th>146</th>\n",
       "      <td>6.3</td>\n",
       "      <td>2.5</td>\n",
       "      <td>5.0</td>\n",
       "      <td>1.9</td>\n",
       "      <td>virginica</td>\n",
       "    </tr>\n",
       "    <tr>\n",
       "      <th>147</th>\n",
       "      <td>6.5</td>\n",
       "      <td>3.0</td>\n",
       "      <td>5.2</td>\n",
       "      <td>2.0</td>\n",
       "      <td>virginica</td>\n",
       "    </tr>\n",
       "    <tr>\n",
       "      <th>148</th>\n",
       "      <td>6.2</td>\n",
       "      <td>3.4</td>\n",
       "      <td>5.4</td>\n",
       "      <td>2.3</td>\n",
       "      <td>virginica</td>\n",
       "    </tr>\n",
       "    <tr>\n",
       "      <th>149</th>\n",
       "      <td>5.9</td>\n",
       "      <td>3.0</td>\n",
       "      <td>5.1</td>\n",
       "      <td>1.8</td>\n",
       "      <td>virginica</td>\n",
       "    </tr>\n",
       "  </tbody>\n",
       "</table>\n",
       "<p>150 rows × 5 columns</p>\n",
       "</div>"
      ],
      "text/plain": [
       "     sepal length (cm)  sepal width (cm)  petal length (cm)  petal width (cm)  \\\n",
       "0                  5.1               3.5                1.4               0.2   \n",
       "1                  4.9               3.0                1.4               0.2   \n",
       "2                  4.7               3.2                1.3               0.2   \n",
       "3                  4.6               3.1                1.5               0.2   \n",
       "4                  5.0               3.6                1.4               0.2   \n",
       "..                 ...               ...                ...               ...   \n",
       "145                6.7               3.0                5.2               2.3   \n",
       "146                6.3               2.5                5.0               1.9   \n",
       "147                6.5               3.0                5.2               2.0   \n",
       "148                6.2               3.4                5.4               2.3   \n",
       "149                5.9               3.0                5.1               1.8   \n",
       "\n",
       "       species  \n",
       "0       setosa  \n",
       "1       setosa  \n",
       "2       setosa  \n",
       "3       setosa  \n",
       "4       setosa  \n",
       "..         ...  \n",
       "145  virginica  \n",
       "146  virginica  \n",
       "147  virginica  \n",
       "148  virginica  \n",
       "149  virginica  \n",
       "\n",
       "[150 rows x 5 columns]"
      ]
     },
     "execution_count": 3,
     "metadata": {},
     "output_type": "execute_result"
    }
   ],
   "source": [
    "df=pd.DataFrame(data=iris.data,columns=iris.feature_names)\n",
    "df['species'] = iris.target_names[iris.target]\n",
    "df"
   ]
  },
  {
   "cell_type": "markdown",
   "id": "b05fa123",
   "metadata": {
    "papermill": {
     "duration": 0.004936,
     "end_time": "2025-07-17T17:35:01.545104",
     "exception": false,
     "start_time": "2025-07-17T17:35:01.540168",
     "status": "completed"
    },
    "tags": []
   },
   "source": [
    "<div style=\"\n",
    "    display: flex;\n",
    "    align-items: center;\n",
    "    background: #f0fdf4;\n",
    "    border-left: 4px solid #3b82f6;\n",
    "    padding: 10px 16px;\n",
    "    margin: 20px 0;\n",
    "    border-radius: 6px;\n",
    "    font-family: -apple-system, BlinkMacSystemFont, sans-serif;\">\n",
    "  \n",
    "  <!-- Step Label -->\n",
    "  <div style=\"\n",
    "      background-color: lightgreen;\n",
    "      color: black;\n",
    "      padding: 4px 10px;\n",
    "      border-radius: 4px;\n",
    "      font-weight: 600;\n",
    "      font-size: 18px;\n",
    "      margin-right: 12px;\n",
    "      white-space: nowrap;\">\n",
    "    Step 3\n",
    "  </div>\n",
    "  \n",
    "  <!-- Title -->\n",
    "  <div style=\"\n",
    "      color: #1e293b;\n",
    "      font-weight: 700;\n",
    "      font-size: 20px;\">\n",
    "    Apply Linear Discriminant Analysis (LDA)\n",
    "  </div>\n",
    "</div>"
   ]
  },
  {
   "cell_type": "code",
   "execution_count": 4,
   "id": "7c70ccd2",
   "metadata": {
    "execution": {
     "iopub.execute_input": "2025-07-17T17:35:01.555781Z",
     "iopub.status.busy": "2025-07-17T17:35:01.555458Z",
     "iopub.status.idle": "2025-07-17T17:35:01.914824Z",
     "shell.execute_reply": "2025-07-17T17:35:01.913772Z"
    },
    "papermill": {
     "duration": 0.366779,
     "end_time": "2025-07-17T17:35:01.916655",
     "exception": false,
     "start_time": "2025-07-17T17:35:01.549876",
     "status": "completed"
    },
    "tags": []
   },
   "outputs": [],
   "source": [
    "from sklearn.discriminant_analysis import LinearDiscriminantAnalysis\n",
    "lda = LinearDiscriminantAnalysis(n_components=2)\n",
    "X_lda = lda.fit_transform(X, Y)                                          "
   ]
  },
  {
   "cell_type": "code",
   "execution_count": 5,
   "id": "23c2b588",
   "metadata": {
    "execution": {
     "iopub.execute_input": "2025-07-17T17:35:01.927782Z",
     "iopub.status.busy": "2025-07-17T17:35:01.927449Z",
     "iopub.status.idle": "2025-07-17T17:35:01.939179Z",
     "shell.execute_reply": "2025-07-17T17:35:01.938239Z"
    },
    "papermill": {
     "duration": 0.01899,
     "end_time": "2025-07-17T17:35:01.940587",
     "exception": false,
     "start_time": "2025-07-17T17:35:01.921597",
     "status": "completed"
    },
    "tags": []
   },
   "outputs": [
    {
     "data": {
      "text/html": [
       "<div>\n",
       "<style scoped>\n",
       "    .dataframe tbody tr th:only-of-type {\n",
       "        vertical-align: middle;\n",
       "    }\n",
       "\n",
       "    .dataframe tbody tr th {\n",
       "        vertical-align: top;\n",
       "    }\n",
       "\n",
       "    .dataframe thead th {\n",
       "        text-align: right;\n",
       "    }\n",
       "</style>\n",
       "<table border=\"1\" class=\"dataframe\">\n",
       "  <thead>\n",
       "    <tr style=\"text-align: right;\">\n",
       "      <th></th>\n",
       "      <th>LD1</th>\n",
       "      <th>LD2</th>\n",
       "    </tr>\n",
       "  </thead>\n",
       "  <tbody>\n",
       "    <tr>\n",
       "      <th>0</th>\n",
       "      <td>8.061800</td>\n",
       "      <td>-0.300421</td>\n",
       "    </tr>\n",
       "    <tr>\n",
       "      <th>1</th>\n",
       "      <td>7.128688</td>\n",
       "      <td>0.786660</td>\n",
       "    </tr>\n",
       "    <tr>\n",
       "      <th>2</th>\n",
       "      <td>7.489828</td>\n",
       "      <td>0.265384</td>\n",
       "    </tr>\n",
       "    <tr>\n",
       "      <th>3</th>\n",
       "      <td>6.813201</td>\n",
       "      <td>0.670631</td>\n",
       "    </tr>\n",
       "    <tr>\n",
       "      <th>4</th>\n",
       "      <td>8.132309</td>\n",
       "      <td>-0.514463</td>\n",
       "    </tr>\n",
       "    <tr>\n",
       "      <th>...</th>\n",
       "      <td>...</td>\n",
       "      <td>...</td>\n",
       "    </tr>\n",
       "    <tr>\n",
       "      <th>145</th>\n",
       "      <td>-5.645003</td>\n",
       "      <td>-1.677717</td>\n",
       "    </tr>\n",
       "    <tr>\n",
       "      <th>146</th>\n",
       "      <td>-5.179565</td>\n",
       "      <td>0.363475</td>\n",
       "    </tr>\n",
       "    <tr>\n",
       "      <th>147</th>\n",
       "      <td>-4.967741</td>\n",
       "      <td>-0.821141</td>\n",
       "    </tr>\n",
       "    <tr>\n",
       "      <th>148</th>\n",
       "      <td>-5.886145</td>\n",
       "      <td>-2.345091</td>\n",
       "    </tr>\n",
       "    <tr>\n",
       "      <th>149</th>\n",
       "      <td>-4.683154</td>\n",
       "      <td>-0.332034</td>\n",
       "    </tr>\n",
       "  </tbody>\n",
       "</table>\n",
       "<p>150 rows × 2 columns</p>\n",
       "</div>"
      ],
      "text/plain": [
       "          LD1       LD2\n",
       "0    8.061800 -0.300421\n",
       "1    7.128688  0.786660\n",
       "2    7.489828  0.265384\n",
       "3    6.813201  0.670631\n",
       "4    8.132309 -0.514463\n",
       "..        ...       ...\n",
       "145 -5.645003 -1.677717\n",
       "146 -5.179565  0.363475\n",
       "147 -4.967741 -0.821141\n",
       "148 -5.886145 -2.345091\n",
       "149 -4.683154 -0.332034\n",
       "\n",
       "[150 rows x 2 columns]"
      ]
     },
     "execution_count": 5,
     "metadata": {},
     "output_type": "execute_result"
    }
   ],
   "source": [
    "pd.DataFrame(X_lda, columns=['LD1', 'LD2'])    #new projected data (LD1,LD2)"
   ]
  },
  {
   "cell_type": "markdown",
   "id": "9983b554",
   "metadata": {
    "papermill": {
     "duration": 0.004504,
     "end_time": "2025-07-17T17:35:01.950262",
     "exception": false,
     "start_time": "2025-07-17T17:35:01.945758",
     "status": "completed"
    },
    "tags": []
   },
   "source": [
    "<div style=\"\n",
    "    display: flex;\n",
    "    align-items: center;\n",
    "    background: #f0fdf4;\n",
    "    border-left: 4px solid #3b82f6;\n",
    "    padding: 10px 16px;\n",
    "    margin: 20px 0;\n",
    "    border-radius: 6px;\n",
    "    font-family: -apple-system, BlinkMacSystemFont, sans-serif;\">\n",
    "  \n",
    "  <!-- Step Label -->\n",
    "  <div style=\"\n",
    "      background-color: lightgreen;\n",
    "      color: black;\n",
    "      padding: 4px 10px;\n",
    "      border-radius: 4px;\n",
    "      font-weight: 600;\n",
    "      font-size: 18px;\n",
    "      margin-right: 12px;\n",
    "      white-space: nowrap;\">\n",
    "    Step 4\n",
    "  </div>\n",
    "  \n",
    "  <!-- Title -->\n",
    "  <div style=\"\n",
    "      color: #1e293b;\n",
    "      font-weight: 700;\n",
    "      font-size: 20px;\">\n",
    "    Visualize LDA Projected Results\n",
    "  </div>\n",
    "</div>"
   ]
  },
  {
   "cell_type": "code",
   "execution_count": 6,
   "id": "48f2636a",
   "metadata": {
    "execution": {
     "iopub.execute_input": "2025-07-17T17:35:01.960836Z",
     "iopub.status.busy": "2025-07-17T17:35:01.960557Z",
     "iopub.status.idle": "2025-07-17T17:35:01.965378Z",
     "shell.execute_reply": "2025-07-17T17:35:01.964335Z"
    },
    "papermill": {
     "duration": 0.011924,
     "end_time": "2025-07-17T17:35:01.966904",
     "exception": false,
     "start_time": "2025-07-17T17:35:01.954980",
     "status": "completed"
    },
    "tags": []
   },
   "outputs": [],
   "source": [
    "target_names=iris.target_names\n",
    "y_labels = [target_names[i] for i in Y]"
   ]
  },
  {
   "cell_type": "code",
   "execution_count": 7,
   "id": "c786cc8e",
   "metadata": {
    "execution": {
     "iopub.execute_input": "2025-07-17T17:35:01.978195Z",
     "iopub.status.busy": "2025-07-17T17:35:01.977855Z",
     "iopub.status.idle": "2025-07-17T17:35:02.432751Z",
     "shell.execute_reply": "2025-07-17T17:35:02.431775Z"
    },
    "papermill": {
     "duration": 0.462479,
     "end_time": "2025-07-17T17:35:02.434496",
     "exception": false,
     "start_time": "2025-07-17T17:35:01.972017",
     "status": "completed"
    },
    "tags": []
   },
   "outputs": [
    {
     "data": {
      "image/png": "[encoded data removed]",
      "text/plain": [
       "<Figure size 1000x700 with 1 Axes>"
      ]
     },
     "metadata": {},
     "output_type": "display_data"
    }
   ],
   "source": [
    "\n",
    "plt.figure(figsize=(10, 7))\n",
    "\n",
    "# 'hue=y' automatically colors the points based on the target variable (species).\n",
    "# We'll use the original target 'y' and map the numeric labels to the actual species names for the legend.\n",
    "sns.scatterplot(\n",
    "    x=X_lda[:, 0],          # all row for First LDA component\n",
    "    y=X_lda[:, 1],          # all row for Second LDA component\n",
    "    hue=y_labels,                  # Color points by their class\n",
    "    palette=sns.color_palette(\"husl\", 3), # Use a nice color palette\n",
    "    s=70,                   # Marker size\n",
    "    alpha=0.8,              # Marker transparency\n",
    "    edgecolor='k'           # Marker edge color\n",
    ")\n",
    "\n",
    "# Add titles and labels for clarity\n",
    "plt.title('LDA of Iris Dataset', fontsize=16)\n",
    "plt.xlabel('LD1 (99.13%)')\n",
    "plt.ylabel('LD2 (0.87%)')\n",
    "\n",
    "# Create a custom legend with the actual species names\n",
    "plt.legend(title='Species')\n",
    "plt.grid(True)\n",
    "plt.show()"
   ]
  },
  {
   "cell_type": "markdown",
   "id": "dc2c4a3c",
   "metadata": {
    "papermill": {
     "duration": 0.007705,
     "end_time": "2025-07-17T17:35:02.450049",
     "exception": false,
     "start_time": "2025-07-17T17:35:02.442344",
     "status": "completed"
    },
    "tags": []
   },
   "source": [
    "## We can clearly see that the three classes are seperated and can be distinguished easily.\n",
    "\n"
   ]
  },
  {
   "cell_type": "markdown",
   "id": "6d3d7b0b",
   "metadata": {
    "papermill": {
     "duration": 0.007969,
     "end_time": "2025-07-17T17:35:02.465609",
     "exception": false,
     "start_time": "2025-07-17T17:35:02.457640",
     "status": "completed"
    },
    "tags": []
   },
   "source": [
    "<div style=\"border: 2px solid #2196F3; padding: 15px; border-radius: 10px; background-color: #f0fdf4; font-family: Arial, sans-serif;\">\n",
    "  <h3 style=\"color: #2196F3;\">🔍 Understanding LDA Explained Variance Ratio</h3>\n",
    "\n",
    "  - <p><strong>LD1</strong> explains ~99.15% of the discriminatory power (i.e., ability to separate classes).</p>\n",
    "  - <p><strong>LD2</strong> explains only ~0.85% of that power.</p>\n",
    "\n",
    "  <p>In <strong>LDA</strong>, the goal is not just to reduce dimensions (like PCA), but to find directions that:</p>\n",
    "  \n",
    "  <ul>\n",
    "    <li><strong>Maximize separation between different classes</strong></li>\n",
    "    <li><strong>Minimize variation within the same class</strong></li>\n",
    "  </ul>\n",
    "\n",
    "  <p>So, each linear discriminant direction (like LD1, LD2) is chosen based on how well it separates the classes.</p>\n",
    "</div>\n",
    "\n"
   ]
  },
  {
   "cell_type": "markdown",
   "id": "307a3561",
   "metadata": {
    "papermill": {
     "duration": 0.006451,
     "end_time": "2025-07-17T17:35:02.479556",
     "exception": false,
     "start_time": "2025-07-17T17:35:02.473105",
     "status": "completed"
    },
    "tags": []
   },
   "source": [
    "<span style=\"\n",
    "    display: inline-block;\n",
    "    padding: 20px 25px;\n",
    "    background: linear-gradient(135deg, #9b59b6, #3498db);\n",
    "    color: white;\n",
    "    border-radius: 10px;\n",
    "    font-size: 28px;\n",
    "    line-height: 1.3;\n",
    "    box-shadow: 0 4px 8px rgba(0,0,0,0.1);\n",
    "\">Splitting dataset and fit model using training data</span>"
   ]
  },
  {
   "cell_type": "code",
   "execution_count": 8,
   "id": "71299253",
   "metadata": {
    "execution": {
     "iopub.execute_input": "2025-07-17T17:35:02.495832Z",
     "iopub.status.busy": "2025-07-17T17:35:02.495488Z",
     "iopub.status.idle": "2025-07-17T17:35:02.513166Z",
     "shell.execute_reply": "2025-07-17T17:35:02.512131Z"
    },
    "papermill": {
     "duration": 0.028662,
     "end_time": "2025-07-17T17:35:02.514982",
     "exception": false,
     "start_time": "2025-07-17T17:35:02.486320",
     "status": "completed"
    },
    "tags": []
   },
   "outputs": [
    {
     "data": {
      "text/html": [
       "<style>#sk-container-id-1 {color: black;background-color: white;}#sk-container-id-1 pre{padding: 0;}#sk-container-id-1 div.sk-toggleable {background-color: white;}#sk-container-id-1 label.sk-toggleable__label {cursor: pointer;display: block;width: 100%;margin-bottom: 0;padding: 0.3em;box-sizing: border-box;text-align: center;}#sk-container-id-1 label.sk-toggleable__label-arrow:before {content: \"▸\";float: left;margin-right: 0.25em;color: #696969;}#sk-container-id-1 label.sk-toggleable__label-arrow:hover:before {color: black;}#sk-container-id-1 div.sk-estimator:hover label.sk-toggleable__label-arrow:before {color: black;}#sk-container-id-1 div.sk-toggleable__content {max-height: 0;max-width: 0;overflow: hidden;text-align: left;background-color: #f0f8ff;}#sk-container-id-1 div.sk-toggleable__content pre {margin: 0.2em;color: black;border-radius: 0.25em;background-color: #f0f8ff;}#sk-container-id-1 input.sk-toggleable__control:checked~div.sk-toggleable__content {max-height: 200px;max-width: 100%;overflow: auto;}#sk-container-id-1 input.sk-toggleable__control:checked~label.sk-toggleable__label-arrow:before {content: \"▾\";}#sk-container-id-1 div.sk-estimator input.sk-toggleable__control:checked~label.sk-toggleable__label {background-color: #d4ebff;}#sk-container-id-1 div.sk-label input.sk-toggleable__control:checked~label.sk-toggleable__label {background-color: #d4ebff;}#sk-container-id-1 input.sk-hidden--visually {border: 0;clip: rect(1px 1px 1px 1px);clip: rect(1px, 1px, 1px, 1px);height: 1px;margin: -1px;overflow: hidden;padding: 0;position: absolute;width: 1px;}#sk-container-id-1 div.sk-estimator {font-family: monospace;background-color: #f0f8ff;border: 1px dotted black;border-radius: 0.25em;box-sizing: border-box;margin-bottom: 0.5em;}#sk-container-id-1 div.sk-estimator:hover {background-color: #d4ebff;}#sk-container-id-1 div.sk-parallel-item::after {content: \"\";width: 100%;border-bottom: 1px solid gray;flex-grow: 1;}#sk-container-id-1 div.sk-label:hover label.sk-toggleable__label {background-color: #d4ebff;}#sk-container-id-1 div.sk-serial::before {content: \"\";position: absolute;border-left: 1px solid gray;box-sizing: border-box;top: 0;bottom: 0;left: 50%;z-index: 0;}#sk-container-id-1 div.sk-serial {display: flex;flex-direction: column;align-items: center;background-color: white;padding-right: 0.2em;padding-left: 0.2em;position: relative;}#sk-container-id-1 div.sk-item {position: relative;z-index: 1;}#sk-container-id-1 div.sk-parallel {display: flex;align-items: stretch;justify-content: center;background-color: white;position: relative;}#sk-container-id-1 div.sk-item::before, #sk-container-id-1 div.sk-parallel-item::before {content: \"\";position: absolute;border-left: 1px solid gray;box-sizing: border-box;top: 0;bottom: 0;left: 50%;z-index: -1;}#sk-container-id-1 div.sk-parallel-item {display: flex;flex-direction: column;z-index: 1;position: relative;background-color: white;}#sk-container-id-1 div.sk-parallel-item:first-child::after {align-self: flex-end;width: 50%;}#sk-container-id-1 div.sk-parallel-item:last-child::after {align-self: flex-start;width: 50%;}#sk-container-id-1 div.sk-parallel-item:only-child::after {width: 0;}#sk-container-id-1 div.sk-dashed-wrapped {border: 1px dashed gray;margin: 0 0.4em 0.5em 0.4em;box-sizing: border-box;padding-bottom: 0.4em;background-color: white;}#sk-container-id-1 div.sk-label label {font-family: monospace;font-weight: bold;display: inline-block;line-height: 1.2em;}#sk-container-id-1 div.sk-label-container {text-align: center;}#sk-container-id-1 div.sk-container {/* jupyter's `normalize.less` sets `[hidden] { display: none; }` but bootstrap.min.css set `[hidden] { display: none !important; }` so we also need the `!important` here to be able to override the default hidden behavior on the sphinx rendered scikit-learn.org. See: https://github.com/scikit-learn/scikit-learn/issues/21755 */display: inline-block !important;position: relative;}#sk-container-id-1 div.sk-text-repr-fallback {display: none;}</style><div id=\"sk-container-id-1\" class=\"sk-top-container\"><div class=\"sk-text-repr-fallback\"><pre>LinearDiscriminantAnalysis(n_components=2)</pre><b>In a Jupyter environment, please rerun this cell to show the HTML representation or trust the notebook. <br />On GitHub, the HTML representation is unable to render, please try loading this page with nbviewer.org.</b></div><div class=\"sk-container\" hidden><div class=\"sk-item\"><div class=\"sk-estimator sk-toggleable\"><input class=\"sk-toggleable__control sk-hidden--visually\" id=\"sk-estimator-id-1\" type=\"checkbox\" checked><label for=\"sk-estimator-id-1\" class=\"sk-toggleable__label sk-toggleable__label-arrow\">LinearDiscriminantAnalysis</label><div class=\"sk-toggleable__content\"><pre>LinearDiscriminantAnalysis(n_components=2)</pre></div></div></div></div></div>"
      ],
      "text/plain": [
       "LinearDiscriminantAnalysis(n_components=2)"
      ]
     },
     "execution_count": 8,
     "metadata": {},
     "output_type": "execute_result"
    }
   ],
   "source": [
    "from sklearn.model_selection import train_test_split\n",
    "from sklearn.metrics import accuracy_score\n",
    "from sklearn.metrics import confusion_matrix\n",
    "X_train,X_test,y_train,y_test = train_test_split(X,Y,test_size=0.3)   #Splits the dataset into training and testing sets.\n",
    "lda.fit(X_train,y_train)                                               #test_size=0.3 : 30% of the data is used for testing, and 70% for training."
   ]
  },
  {
   "cell_type": "markdown",
   "id": "9dea67a1",
   "metadata": {
    "papermill": {
     "duration": 0.007173,
     "end_time": "2025-07-17T17:35:02.530037",
     "exception": false,
     "start_time": "2025-07-17T17:35:02.522864",
     "status": "completed"
    },
    "tags": []
   },
   "source": [
    "<span style=\"\n",
    "    display: inline-block;\n",
    "    padding: 20px 25px;\n",
    "    background: linear-gradient(135deg, #9b59b6, #3498db);\n",
    "    color: white;\n",
    "    border-radius: 10px;\n",
    "    font-size: 28px;\n",
    "    line-height: 1.3;\n",
    "    box-shadow: 0 4px 8px rgba(0,0,0,0.1);\n",
    "\">Accuracy Score</span>"
   ]
  },
  {
   "cell_type": "code",
   "execution_count": 9,
   "id": "11310253",
   "metadata": {
    "execution": {
     "iopub.execute_input": "2025-07-17T17:35:02.547974Z",
     "iopub.status.busy": "2025-07-17T17:35:02.547589Z",
     "iopub.status.idle": "2025-07-17T17:35:02.556414Z",
     "shell.execute_reply": "2025-07-17T17:35:02.555253Z"
    },
    "papermill": {
     "duration": 0.020867,
     "end_time": "2025-07-17T17:35:02.558605",
     "exception": false,
     "start_time": "2025-07-17T17:35:02.537738",
     "status": "completed"
    },
    "tags": []
   },
   "outputs": [
    {
     "name": "stdout",
     "output_type": "stream",
     "text": [
      "0.9777777777777777\n"
     ]
    }
   ],
   "source": [
    "y_pred = lda.predict(X_test)\n",
    "print(accuracy_score(y_test,y_pred))"
   ]
  },
  {
   "cell_type": "markdown",
   "id": "cdb5b173",
   "metadata": {
    "papermill": {
     "duration": 0.007896,
     "end_time": "2025-07-17T17:35:02.573647",
     "exception": false,
     "start_time": "2025-07-17T17:35:02.565751",
     "status": "completed"
    },
    "tags": []
   },
   "source": [
    "output 1 means the model achieved 100% accuracy on the test dataset."
   ]
  },
  {
   "cell_type": "markdown",
   "id": "f7e84428",
   "metadata": {
    "papermill": {
     "duration": 0.007393,
     "end_time": "2025-07-17T17:35:02.588130",
     "exception": false,
     "start_time": "2025-07-17T17:35:02.580737",
     "status": "completed"
    },
    "tags": []
   },
   "source": [
    "<span style=\"\n",
    "    display: inline-block;\n",
    "    padding: 20px 25px;\n",
    "    background: linear-gradient(135deg, #9b59b6, #3498db);\n",
    "    color: white;\n",
    "    border-radius: 10px;\n",
    "    font-size: 28px;\n",
    "    line-height: 1.3;\n",
    "    box-shadow: 0 4px 8px rgba(0,0,0,0.1);\n",
    "\">Confusion Matrix</span>"
   ]
  },
  {
   "cell_type": "code",
   "execution_count": 10,
   "id": "6058289d",
   "metadata": {
    "execution": {
     "iopub.execute_input": "2025-07-17T17:35:02.605730Z",
     "iopub.status.busy": "2025-07-17T17:35:02.605304Z",
     "iopub.status.idle": "2025-07-17T17:35:02.615592Z",
     "shell.execute_reply": "2025-07-17T17:35:02.614548Z"
    },
    "papermill": {
     "duration": 0.021555,
     "end_time": "2025-07-17T17:35:02.617366",
     "exception": false,
     "start_time": "2025-07-17T17:35:02.595811",
     "status": "completed"
    },
    "tags": []
   },
   "outputs": [
    {
     "data": {
      "text/plain": [
       "array([[18,  0,  0],\n",
       "       [ 0, 14,  1],\n",
       "       [ 0,  0, 12]])"
      ]
     },
     "execution_count": 10,
     "metadata": {},
     "output_type": "execute_result"
    }
   ],
   "source": [
    "confusion_matrix(y_test,y_pred)"
   ]
  },
  {
   "cell_type": "markdown",
   "id": "377de140",
   "metadata": {
    "papermill": {
     "duration": 0.007293,
     "end_time": "2025-07-17T17:35:02.632324",
     "exception": false,
     "start_time": "2025-07-17T17:35:02.625031",
     "status": "completed"
    },
    "tags": []
   },
   "source": [
    "<div style=\"\n",
    "    display: flex;\n",
    "    align-items: center;\n",
    "    background: #f0fdf4;\n",
    "    border-left: 4px solid #3b82f6;\n",
    "    padding: 10px 16px;\n",
    "    margin: 20px 0;\n",
    "    border-radius: 6px;\n",
    "    font-family: -apple-system, BlinkMacSystemFont, sans-serif;\">\n",
    "  \n",
    "  <!-- Step Label -->\n",
    "  <div style=\"\n",
    "      background-color: lightgreen;\n",
    "      color: black;\n",
    "      padding: 4px 10px;\n",
    "      border-radius: 4px;\n",
    "      font-weight: 600;\n",
    "      font-size: 18px;\n",
    "      margin-right: 12px;\n",
    "      white-space: nowrap;\">\n",
    "    Classification\n",
    "  </div>\n",
    "  \n",
    "  <!-- Title -->\n",
    "  <div style=\"\n",
    "      color: #1e293b;\n",
    "      font-weight: 700;\n",
    "      font-size: 20px;\">\n",
    "    Lets Predict\n",
    "  </div>\n",
    "</div>"
   ]
  },
  {
   "cell_type": "code",
   "execution_count": 11,
   "id": "1f8f9e3f",
   "metadata": {
    "execution": {
     "iopub.execute_input": "2025-07-17T17:35:02.647719Z",
     "iopub.status.busy": "2025-07-17T17:35:02.647414Z",
     "iopub.status.idle": "2025-07-17T17:35:02.653934Z",
     "shell.execute_reply": "2025-07-17T17:35:02.653166Z"
    },
    "papermill": {
     "duration": 0.016075,
     "end_time": "2025-07-17T17:35:02.655549",
     "exception": false,
     "start_time": "2025-07-17T17:35:02.639474",
     "status": "completed"
    },
    "tags": []
   },
   "outputs": [
    {
     "data": {
      "text/plain": [
       "array([1])"
      ]
     },
     "execution_count": 11,
     "metadata": {},
     "output_type": "execute_result"
    }
   ],
   "source": [
    "# define new observation\n",
    "new = [6, 2.9, 3, 0.7]\n",
    "\n",
    "# predict which class the new observation belongs to\n",
    "lda.predict([new])"
   ]
  },
  {
   "cell_type": "markdown",
   "id": "c1572da6",
   "metadata": {
    "papermill": {
     "duration": 0.007112,
     "end_time": "2025-07-17T17:35:02.726837",
     "exception": false,
     "start_time": "2025-07-17T17:35:02.719725",
     "status": "completed"
    },
    "tags": []
   },
   "source": [
    "<div style=\"text-align: center; font-family: Arial; color: #666; border-top: 1px solid #ddd; padding-top: 10px;\">\n",
    "<b>Aditto ahosan Kabbo</b><br>\n",
    "<a href=\"https://ahosankabbo.me\" style=\"color: #0066cc; text-decoration: none;\">📧 ahosankabbo.me</a> | \n",
    "<a href=\"https://www.linkedin.com/in/adittoahosankabbo/\" style=\"color: #0066cc; text-decoration: none;\">🔗 LinkedIn</a> | \n",
    "<a href=\"https://github.com/AdittoAhosanKabbo\" style=\"color: #0066cc; text-decoration: none;\">🐱 GitHub</a><br>\n",
    "<small>Notebook • Last Updated: 2025-07-17 • © 2025</small>\n",
    "</div>"
   ]
  }
 ],
 "metadata": {
  "kaggle": {
   "accelerator": "none",
   "dataSources": [],
   "dockerImageVersionId": 31089,
   "isGpuEnabled": false,
   "isInternetEnabled": true,
   "language": "python",
   "sourceType": "notebook"
  },
  "kernelspec": {
   "display_name": "Python 3",
   "language": "python",
   "name": "python3"
  },
  "language_info": {
   "codemirror_mode": {
    "name": "ipython",
    "version": 3
   },
   "file_extension": ".py",
   "mimetype": "text/x-python",
   "name": "python",
   "nbconvert_exporter": "python",
   "pygments_lexer": "ipython3",
   "version": "3.11.13"
  },
  "papermill": {
   "default_parameters": {},
   "duration": 13.210784,
   "end_time": "2025-07-17T17:35:03.454072",
   "environment_variables": {},
   "exception": null,
   "input_path": "__notebook__.ipynb",
   "output_path": "__notebook__.ipynb",
   "parameters": {},
   "start_time": "2025-07-17T17:34:50.243288",
   "version": "2.6.0"
  },
  "widgets": {
   "application/vnd.jupyter.widget-state+json": {
    "state": {
     "0fd3e50da1c747ed9c68fbe15ee45bca": {
      "model_module": "@jupyter-widgets/output",
      "model_module_version": "1.0.0",
      "model_name": "OutputModel",
      "state": {
       "_dom_classes": [],
       "_model_module": "@jupyter-widgets/output",
       "_model_module_version": "1.0.0",
       "_model_name": "OutputModel",
       "_view_count": null,
       "_view_module": "@jupyter-widgets/output",
       "_view_module_version": "1.0.0",
       "_view_name": "OutputView",
       "layout": "IPY_MODEL_8af7c96a29634fa2bbdf45721798058e",
       "msg_id": "",
       "outputs": [
        {
         "name": "stdout",
         "output_type": "stream",
         "text": "=============================================\n  PREDICTED SPECIES: VERSICOLOR\n=============================================\nConfidence Scores:\n  - setosa      :   0.00% | \n  - versicolor  : 100.00% | ███████████████████████████████████████\n  - virginica   :   0.00% | \n=============================================\n"
        }
       ],
       "tabbable": null,
       "tooltip": null
      }
     },
     "36855a3f377e4097b52de13f655067bc": {
      "model_module": "@jupyter-widgets/controls",
      "model_module_version": "2.0.0",
      "model_name": "VBoxModel",
      "state": {
       "_dom_classes": [],
       "_model_module": "@jupyter-widgets/controls",
       "_model_module_version": "2.0.0",
       "_model_name": "VBoxModel",
       "_view_count": null,
       "_view_module": "@jupyter-widgets/controls",
       "_view_module_version": "2.0.0",
       "_view_name": "VBoxView",
       "box_style": "",
       "children": [
        "IPY_MODEL_e635aac1fb544b90b06e15a3c074b37b",
        "IPY_MODEL_ecc69c04fcd546ceabd7930700789580",
        "IPY_MODEL_aa8d2ccea02a4e60ae937eba68286998",
        "IPY_MODEL_87b1b89cd0d3442b92bee3fb7f92b60c",
        "IPY_MODEL_0fd3e50da1c747ed9c68fbe15ee45bca"
       ],
       "layout": "IPY_MODEL_c1998160450841ada44f10ab7bc8d0db",
       "tabbable": null,
       "tooltip": null
      }
     },
     "62cf2a53c7d54d7da914996dcc628890": {
      "model_module": "@jupyter-widgets/base",
      "model_module_version": "2.0.0",
      "model_name": "LayoutModel",
      "state": {
       "_model_module": "@jupyter-widgets/base",
       "_model_module_version": "2.0.0",
       "_model_name": "LayoutModel",
       "_view_count": null,
       "_view_module": "@jupyter-widgets/base",
       "_view_module_version": "2.0.0",
       "_view_name": "LayoutView",
       "align_content": null,
       "align_items": null,
       "align_self": null,
       "border_bottom": null,
       "border_left": null,
       "border_right": null,
       "border_top": null,
       "bottom": null,
       "display": null,
       "flex": null,
       "flex_flow": null,
       "grid_area": null,
       "grid_auto_columns": null,
       "grid_auto_flow": null,
       "grid_auto_rows": null,
       "grid_column": null,
       "grid_gap": null,
       "grid_row": null,
       "grid_template_areas": null,
       "grid_template_columns": null,
       "grid_template_rows": null,
       "height": null,
       "justify_content": null,
       "justify_items": null,
       "left": null,
       "margin": null,
       "max_height": null,
       "max_width": null,
       "min_height": null,
       "min_width": null,
       "object_fit": null,
       "object_position": null,
       "order": null,
       "overflow": null,
       "padding": null,
       "right": null,
       "top": null,
       "visibility": null,
       "width": "500px"
      }
     },
     "68644e23b1e54c87bd80faed1421c744": {
      "model_module": "@jupyter-widgets/base",
      "model_module_version": "2.0.0",
      "model_name": "LayoutModel",
      "state": {
       "_model_module": "@jupyter-widgets/base",
       "_model_module_version": "2.0.0",
       "_model_name": "LayoutModel",
       "_view_count": null,
       "_view_module": "@jupyter-widgets/base",
       "_view_module_version": "2.0.0",
       "_view_name": "LayoutView",
       "align_content": null,
       "align_items": null,
       "align_self": null,
       "border_bottom": null,
       "border_left": null,
       "border_right": null,
       "border_top": null,
       "bottom": null,
       "display": null,
       "flex": null,
       "flex_flow": null,
       "grid_area": null,
       "grid_auto_columns": null,
       "grid_auto_flow": null,
       "grid_auto_rows": null,
       "grid_column": null,
       "grid_gap": null,
       "grid_row": null,
       "grid_template_areas": null,
       "grid_template_columns": null,
       "grid_template_rows": null,
       "height": null,
       "justify_content": null,
       "justify_items": null,
       "left": null,
       "margin": null,
       "max_height": null,
       "max_width": null,
       "min_height": null,
       "min_width": null,
       "object_fit": null,
       "object_position": null,
       "order": null,
       "overflow": null,
       "padding": null,
       "right": null,
       "top": null,
       "visibility": null,
       "width": "500px"
      }
     },
     "861cb980a0714ed79e63134b497f6808": {
      "model_module": "@jupyter-widgets/controls",
      "model_module_version": "2.0.0",
      "model_name": "SliderStyleModel",
      "state": {
       "_model_module": "@jupyter-widgets/controls",
       "_model_module_version": "2.0.0",
       "_model_name": "SliderStyleModel",
       "_view_count": null,
       "_view_module": "@jupyter-widgets/base",
       "_view_module_version": "2.0.0",
       "_view_name": "StyleView",
       "description_width": "initial",
       "handle_color": null
      }
     },
     "87b1b89cd0d3442b92bee3fb7f92b60c": {
      "model_module": "@jupyter-widgets/controls",
      "model_module_version": "2.0.0",
      "model_name": "FloatSliderModel",
      "state": {
       "_dom_classes": [],
       "_model_module": "@jupyter-widgets/controls",
       "_model_module_version": "2.0.0",
       "_model_name": "FloatSliderModel",
       "_view_count": null,
       "_view_module": "@jupyter-widgets/controls",
       "_view_module_version": "2.0.0",
       "_view_name": "FloatSliderView",
       "behavior": "drag-tap",
       "continuous_update": true,
       "description": "Petal Width:",
       "description_allow_html": false,
       "disabled": false,
       "layout": "IPY_MODEL_aad75739d1b242ca8bfd6f8e1288d513",
       "max": 2.5,
       "min": 0.1,
       "orientation": "horizontal",
       "readout": true,
       "readout_format": ".2f",
       "step": 0.1,
       "style": "IPY_MODEL_e5239c340d26469ea56b816dbf9e2614",
       "tabbable": null,
       "tooltip": null,
       "value": 1.2
      }
     },
     "8af7c96a29634fa2bbdf45721798058e": {
      "model_module": "@jupyter-widgets/base",
      "model_module_version": "2.0.0",
      "model_name": "LayoutModel",
      "state": {
       "_model_module": "@jupyter-widgets/base",
       "_model_module_version": "2.0.0",
       "_model_name": "LayoutModel",
       "_view_count": null,
       "_view_module": "@jupyter-widgets/base",
       "_view_module_version": "2.0.0",
       "_view_name": "LayoutView",
       "align_content": null,
       "align_items": null,
       "align_self": null,
       "border_bottom": null,
       "border_left": null,
       "border_right": null,
       "border_top": null,
       "bottom": null,
       "display": null,
       "flex": null,
       "flex_flow": null,
       "grid_area": null,
       "grid_auto_columns": null,
       "grid_auto_flow": null,
       "grid_auto_rows": null,
       "grid_column": null,
       "grid_gap": null,
       "grid_row": null,
       "grid_template_areas": null,
       "grid_template_columns": null,
       "grid_template_rows": null,
       "height": null,
       "justify_content": null,
       "justify_items": null,
       "left": null,
       "margin": null,
       "max_height": null,
       "max_width": null,
       "min_height": null,
       "min_width": null,
       "object_fit": null,
       "object_position": null,
       "order": null,
       "overflow": null,
       "padding": null,
       "right": null,
       "top": null,
       "visibility": null,
       "width": null
      }
     },
     "93a55eeb589447e1806333f9bea2a78c": {
      "model_module": "@jupyter-widgets/controls",
      "model_module_version": "2.0.0",
      "model_name": "SliderStyleModel",
      "state": {
       "_model_module": "@jupyter-widgets/controls",
       "_model_module_version": "2.0.0",
       "_model_name": "SliderStyleModel",
       "_view_count": null,
       "_view_module": "@jupyter-widgets/base",
       "_view_module_version": "2.0.0",
       "_view_name": "StyleView",
       "description_width": "initial",
       "handle_color": null
      }
     },
     "aa8d2ccea02a4e60ae937eba68286998": {
      "model_module": "@jupyter-widgets/controls",
      "model_module_version": "2.0.0",
      "model_name": "FloatSliderModel",
      "state": {
       "_dom_classes": [],
       "_model_module": "@jupyter-widgets/controls",
       "_model_module_version": "2.0.0",
       "_model_name": "FloatSliderModel",
       "_view_count": null,
       "_view_module": "@jupyter-widgets/controls",
       "_view_module_version": "2.0.0",
       "_view_name": "FloatSliderView",
       "behavior": "drag-tap",
       "continuous_update": true,
       "description": "Petal Length:",
       "description_allow_html": false,
       "disabled": false,
       "layout": "IPY_MODEL_fc64aa561d094b1386c09a00d93306e0",
       "max": 7,
       "min": 1,
       "orientation": "horizontal",
       "readout": true,
       "readout_format": ".2f",
       "step": 0.1,
       "style": "IPY_MODEL_861cb980a0714ed79e63134b497f6808",
       "tabbable": null,
       "tooltip": null,
       "value": 3.7
      }
     },
     "aad75739d1b242ca8bfd6f8e1288d513": {
      "model_module": "@jupyter-widgets/base",
      "model_module_version": "2.0.0",
      "model_name": "LayoutModel",
      "state": {
       "_model_module": "@jupyter-widgets/base",
       "_model_module_version": "2.0.0",
       "_model_name": "LayoutModel",
       "_view_count": null,
       "_view_module": "@jupyter-widgets/base",
       "_view_module_version": "2.0.0",
       "_view_name": "LayoutView",
       "align_content": null,
       "align_items": null,
       "align_self": null,
       "border_bottom": null,
       "border_left": null,
       "border_right": null,
       "border_top": null,
       "bottom": null,
       "display": null,
       "flex": null,
       "flex_flow": null,
       "grid_area": null,
       "grid_auto_columns": null,
       "grid_auto_flow": null,
       "grid_auto_rows": null,
       "grid_column": null,
       "grid_gap": null,
       "grid_row": null,
       "grid_template_areas": null,
       "grid_template_columns": null,
       "grid_template_rows": null,
       "height": null,
       "justify_content": null,
       "justify_items": null,
       "left": null,
       "margin": null,
       "max_height": null,
       "max_width": null,
       "min_height": null,
       "min_width": null,
       "object_fit": null,
       "object_position": null,
       "order": null,
       "overflow": null,
       "padding": null,
       "right": null,
       "top": null,
       "visibility": null,
       "width": "500px"
      }
     },
     "c1998160450841ada44f10ab7bc8d0db": {
      "model_module": "@jupyter-widgets/base",
      "model_module_version": "2.0.0",
      "model_name": "LayoutModel",
      "state": {
       "_model_module": "@jupyter-widgets/base",
       "_model_module_version": "2.0.0",
       "_model_name": "LayoutModel",
       "_view_count": null,
       "_view_module": "@jupyter-widgets/base",
       "_view_module_version": "2.0.0",
       "_view_name": "LayoutView",
       "align_content": null,
       "align_items": null,
       "align_self": null,
       "border_bottom": null,
       "border_left": null,
       "border_right": null,
       "border_top": null,
       "bottom": null,
       "display": null,
       "flex": null,
       "flex_flow": null,
       "grid_area": null,
       "grid_auto_columns": null,
       "grid_auto_flow": null,
       "grid_auto_rows": null,
       "grid_column": null,
       "grid_gap": null,
       "grid_row": null,
       "grid_template_areas": null,
       "grid_template_columns": null,
       "grid_template_rows": null,
       "height": null,
       "justify_content": null,
       "justify_items": null,
       "left": null,
       "margin": null,
       "max_height": null,
       "max_width": null,
       "min_height": null,
       "min_width": null,
       "object_fit": null,
       "object_position": null,
       "order": null,
       "overflow": null,
       "padding": null,
       "right": null,
       "top": null,
       "visibility": null,
       "width": null
      }
     },
     "c4fa8fdb4cf845bdb101ffe5cb0c96ac": {
      "model_module": "@jupyter-widgets/controls",
      "model_module_version": "2.0.0",
      "model_name": "SliderStyleModel",
      "state": {
       "_model_module": "@jupyter-widgets/controls",
       "_model_module_version": "2.0.0",
       "_model_name": "SliderStyleModel",
       "_view_count": null,
       "_view_module": "@jupyter-widgets/base",
       "_view_module_version": "2.0.0",
       "_view_name": "StyleView",
       "description_width": "initial",
       "handle_color": null
      }
     },
     "e5239c340d26469ea56b816dbf9e2614": {
      "model_module": "@jupyter-widgets/controls",
      "model_module_version": "2.0.0",
      "model_name": "SliderStyleModel",
      "state": {
       "_model_module": "@jupyter-widgets/controls",
       "_model_module_version": "2.0.0",
       "_model_name": "SliderStyleModel",
       "_view_count": null,
       "_view_module": "@jupyter-widgets/base",
       "_view_module_version": "2.0.0",
       "_view_name": "StyleView",
       "description_width": "initial",
       "handle_color": null
      }
     },
     "e635aac1fb544b90b06e15a3c074b37b": {
      "model_module": "@jupyter-widgets/controls",
      "model_module_version": "2.0.0",
      "model_name": "FloatSliderModel",
      "state": {
       "_dom_classes": [],
       "_model_module": "@jupyter-widgets/controls",
       "_model_module_version": "2.0.0",
       "_model_name": "FloatSliderModel",
       "_view_count": null,
       "_view_module": "@jupyter-widgets/controls",
       "_view_module_version": "2.0.0",
       "_view_name": "FloatSliderView",
       "behavior": "drag-tap",
       "continuous_update": true,
       "description": "Sepal Length:",
       "description_allow_html": false,
       "disabled": false,
       "layout": "IPY_MODEL_62cf2a53c7d54d7da914996dcc628890",
       "max": 8,
       "min": 4,
       "orientation": "horizontal",
       "readout": true,
       "readout_format": ".2f",
       "step": 0.1,
       "style": "IPY_MODEL_c4fa8fdb4cf845bdb101ffe5cb0c96ac",
       "tabbable": null,
       "tooltip": null,
       "value": 5.8
      }
     },
     "ecc69c04fcd546ceabd7930700789580": {
      "model_module": "@jupyter-widgets/controls",
      "model_module_version": "2.0.0",
      "model_name": "FloatSliderModel",
      "state": {
       "_dom_classes": [],
       "_model_module": "@jupyter-widgets/controls",
       "_model_module_version": "2.0.0",
       "_model_name": "FloatSliderModel",
       "_view_count": null,
       "_view_module": "@jupyter-widgets/controls",
       "_view_module_version": "2.0.0",
       "_view_name": "FloatSliderView",
       "behavior": "drag-tap",
       "continuous_update": true,
       "description": "Sepal Width:",
       "description_allow_html": false,
       "disabled": false,
       "layout": "IPY_MODEL_68644e23b1e54c87bd80faed1421c744",
       "max": 4.5,
       "min": 2,
       "orientation": "horizontal",
       "readout": true,
       "readout_format": ".2f",
       "step": 0.1,
       "style": "IPY_MODEL_93a55eeb589447e1806333f9bea2a78c",
       "tabbable": null,
       "tooltip": null,
       "value": 3
      }
     },
     "fc64aa561d094b1386c09a00d93306e0": {
      "model_module": "@jupyter-widgets/base",
      "model_module_version": "2.0.0",
      "model_name": "LayoutModel",
      "state": {
       "_model_module": "@jupyter-widgets/base",
       "_model_module_version": "2.0.0",
       "_model_name": "LayoutModel",
       "_view_count": null,
       "_view_module": "@jupyter-widgets/base",
       "_view_module_version": "2.0.0",
       "_view_name": "LayoutView",
       "align_content": null,
       "align_items": null,
       "align_self": null,
       "border_bottom": null,
       "border_left": null,
       "border_right": null,
       "border_top": null,
       "bottom": null,
       "display": null,
       "flex": null,
       "flex_flow": null,
       "grid_area": null,
       "grid_auto_columns": null,
       "grid_auto_flow": null,
       "grid_auto_rows": null,
       "grid_column": null,
       "grid_gap": null,
       "grid_row": null,
       "grid_template_areas": null,
       "grid_template_columns": null,
       "grid_template_rows": null,
       "height": null,
       "justify_content": null,
       "justify_items": null,
       "left": null,
       "margin": null,
       "max_height": null,
       "max_width": null,
       "min_height": null,
       "min_width": null,
       "object_fit": null,
       "object_position": null,
       "order": null,
       "overflow": null,
       "padding": null,
       "right": null,
       "top": null,
       "visibility": null,
       "width": "500px"
      }
     }
    },
    "version_major": 2,
    "version_minor": 0
   }
  }
 },
 "nbformat": 4,
 "nbformat_minor": 5
}
